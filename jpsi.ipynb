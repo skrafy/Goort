{
 "cells": [
  {
   "cell_type": "markdown",
   "metadata": {},
   "source": [
    "# Measuring the J/psi mass"
   ]
  },
  {
   "cell_type": "code",
   "execution_count": 1,
   "metadata": {
    "collapsed": false,
    "slideshow": {
     "slide_type": "skip"
    }
   },
   "outputs": [
    {
     "ename": "ImportError",
     "evalue": "No module named rootpy.plotting",
     "output_type": "error",
     "traceback": [
      "\u001b[0;31m---------------------------------------------------------------------------\u001b[0m",
      "\u001b[0;31mImportError\u001b[0m                               Traceback (most recent call last)",
      "\u001b[0;32m<ipython-input-1-964a76dec294>\u001b[0m in \u001b[0;36m<module>\u001b[0;34m()\u001b[0m\n\u001b[1;32m      2\u001b[0m \u001b[1;32mimport\u001b[0m \u001b[0mos\u001b[0m\u001b[1;33m\u001b[0m\u001b[0m\n\u001b[1;32m      3\u001b[0m \u001b[1;32mimport\u001b[0m \u001b[0mnumpy\u001b[0m \u001b[1;32mas\u001b[0m \u001b[0mnp\u001b[0m\u001b[1;33m\u001b[0m\u001b[0m\n\u001b[0;32m----> 4\u001b[0;31m \u001b[1;32mfrom\u001b[0m \u001b[0mrootpy\u001b[0m\u001b[1;33m.\u001b[0m\u001b[0mplotting\u001b[0m \u001b[1;32mimport\u001b[0m \u001b[0mHist\u001b[0m\u001b[1;33m,\u001b[0m \u001b[0mCanvas\u001b[0m\u001b[1;33m,\u001b[0m \u001b[0mset_style\u001b[0m\u001b[1;33m,\u001b[0m \u001b[0mget_style\u001b[0m\u001b[1;33m\u001b[0m\u001b[0m\n\u001b[0m\u001b[1;32m      5\u001b[0m \u001b[1;32mfrom\u001b[0m \u001b[0mrootpy\u001b[0m \u001b[1;32mimport\u001b[0m \u001b[0masrootpy\u001b[0m\u001b[1;33m,\u001b[0m \u001b[0mlog\u001b[0m\u001b[1;33m\u001b[0m\u001b[0m\n\u001b[1;32m      6\u001b[0m \u001b[1;32mfrom\u001b[0m \u001b[0mroot_numpy\u001b[0m \u001b[1;32mimport\u001b[0m \u001b[0mroot2array\u001b[0m\u001b[1;33m,\u001b[0m \u001b[0mfill_hist\u001b[0m\u001b[1;33m\u001b[0m\u001b[0m\n",
      "\u001b[0;31mImportError\u001b[0m: No module named rootpy.plotting"
     ]
    }
   ],
   "source": [
    "# Required imports and setup\n",
    "import os\n",
    "import numpy as np\n",
    "from rootpy.plotting import Hist, Canvas, set_style, get_style\n",
    "from rootpy import asrootpy, log\n",
    "from root_numpy import root2array, fill_hist\n",
    "from ROOT import (RooFit, RooRealVar, RooDataHist, RooArgList,\n",
    "                  RooVoigtian, RooAddPdf, RooPolynomial, TLatex)\n",
    "style = get_style('ATLAS')\n",
    "style.SetCanvasDefW(900)\n",
    "style.SetCanvasDefH(600)\n",
    "set_style('ATLAS')\n",
    "log['/ROOT.TClassTable.Add'].setLevel(log.ERROR)"
   ]
  },
  {
   "cell_type": "code",
   "execution_count": null,
   "metadata": {
    "collapsed": true,
    "slideshow": {
     "slide_type": "fragment"
    }
   },
   "outputs": [],
   "source": [
    "def get_masses(filename, treename='events'):\n",
    "    # Get array of squared mass values selecting opposite charge events\n",
    "    expr = '(e1 + e2)**2 - ((px1 + px2)^2 + (py1 + py2)^2 + (pz1 + pz2)^2)'\n",
    "    m2 = root2array(filename, treename=treename,\n",
    "                    branches=expr, selection='q1 * q2 == -1')\n",
    "    # Remove bad events\n",
    "    m2 = m2[m2 > 0]\n",
    "    # Return the masses\n",
    "    return np.sqrt(m2)"
   ]
  },
  {
   "cell_type": "code",
   "execution_count": null,
   "metadata": {
    "collapsed": false,
    "slideshow": {
     "slide_type": "fragment"
    }
   },
   "outputs": [],
   "source": [
    "def plot_hist(hist, logy=True, logx=True):\n",
    "    # A function to plot the mass values\n",
    "    canvas = Canvas()\n",
    "    if logy:\n",
    "        canvas.SetLogy()\n",
    "    if logx:\n",
    "        canvas.SetLogx()\n",
    "    hist.xaxis.title = 'm_{#mu#mu} [GeV]'\n",
    "    hist.yaxis.title = 'Events'\n",
    "    hist.Draw('hist')\n",
    "    return canvas"
   ]
  },
  {
   "cell_type": "markdown",
   "metadata": {
    "slideshow": {
     "slide_type": "slide"
    }
   },
   "source": [
    "## Fetch the data"
   ]
  },
  {
   "cell_type": "code",
   "execution_count": null,
   "metadata": {
    "collapsed": false,
    "slideshow": {
     "slide_type": "fragment"
    }
   },
   "outputs": [],
   "source": [
    "if not os.path.exists('events.root'):\n",
    "    !curl https://cernbox.cern.ch/index.php/s/ZE45HERahm7DeZ6/download -o events.root"
   ]
  },
  {
   "cell_type": "markdown",
   "metadata": {
    "slideshow": {
     "slide_type": "slide"
    }
   },
   "source": [
    "## Plot the dimuon mass spectrum"
   ]
  },
  {
   "cell_type": "code",
   "execution_count": null,
   "metadata": {
    "collapsed": false,
    "slideshow": {
     "slide_type": "fragment"
    }
   },
   "outputs": [],
   "source": [
    "masses = get_masses('events.root')\n",
    "mass_hist = Hist(1500, 0.5, 120)\n",
    "fill_hist(mass_hist, masses)\n",
    "plot_hist(mass_hist)"
   ]
  },
  {
   "cell_type": "markdown",
   "metadata": {
    "slideshow": {
     "slide_type": "slide"
    }
   },
   "source": [
    "## Zoom in on the J/psi resonance"
   ]
  },
  {
   "cell_type": "code",
   "execution_count": null,
   "metadata": {
    "collapsed": false,
    "slideshow": {
     "slide_type": "fragment"
    }
   },
   "outputs": [],
   "source": [
    "mass_hist_zoomed = Hist(100, 2.8, 3.4, drawstyle='EP')\n",
    "fill_hist(mass_hist_zoomed, masses)\n",
    "plot_hist(mass_hist_zoomed, logx=False, logy=False)"
   ]
  },
  {
   "cell_type": "markdown",
   "metadata": {},
   "source": [
    "## Measure the mass"
   ]
  },
  {
   "cell_type": "code",
   "execution_count": null,
   "metadata": {
    "collapsed": true,
    "slideshow": {
     "slide_type": "slide"
    }
   },
   "outputs": [],
   "source": [
    "def fit(hist):\n",
    "    hmin = hist.GetXaxis().GetXmin()\n",
    "    hmax = hist.GetXaxis().GetXmax()\n",
    "\n",
    "    # Declare observable x\n",
    "    x = RooRealVar(\"x\",\"x\",hmin,hmax)\n",
    "    dh = RooDataHist(\"dh\",\"dh\",RooArgList(x),RooFit.Import(hist))\n",
    "\n",
    "    frame = x.frame(RooFit.Title(\"Z mass\"))\n",
    "    # this will show histogram data points on canvas \n",
    "    dh.plotOn(frame,RooFit.MarkerColor(2),RooFit.MarkerSize(0.9),RooFit.MarkerStyle(21))\n",
    "\n",
    "    # Signal PDF\n",
    "    mean = RooRealVar(\"mean\",\"mean\",3.1, 0, 5)\n",
    "    width = RooRealVar(\"width\",\"width\",1, 0, 100)\n",
    "    sigma = RooRealVar(\"sigma\",\"sigma\",5, 0, 100)\n",
    "    voigt = RooVoigtian(\"voigt\",\"voigt\",x,mean,width,sigma)\n",
    "    \n",
    "    # Background PDF\n",
    "    pol0 = RooPolynomial(\"pol0\",\"pol0\",x,RooArgList())\n",
    "    \n",
    "    # Combined model\n",
    "    jpsi_yield = RooRealVar(\"jpsi_yield\",\"yield of j/psi\",0.9,0,1)\n",
    "    model = RooAddPdf(\"model\",\"pol0+gauss\",RooArgList(voigt,pol0),RooArgList(jpsi_yield))\n",
    "\n",
    "    result = asrootpy(model.fitTo(dh, RooFit.Save(True)))\n",
    "    mass = result.final_params['mean'].value\n",
    "    bin1 = hist.FindFirstBinAbove(hist.GetMaximum()/2)\n",
    "    bin2 = hist.FindLastBinAbove(hist.GetMaximum()/2)\n",
    "    hwhm = (hist.GetBinCenter(bin2) - hist.GetBinCenter(bin1)) / 2\n",
    "    # this will show fit overlay on canvas\n",
    "    model.plotOn(frame,RooFit.LineColor(5))\n",
    "\n",
    "    # Draw all frames on a canvas\n",
    "    canvas = Canvas()\n",
    "    frame.GetXaxis().SetTitle(\"m_{#mu#mu} [GeV]\")\n",
    "    frame.GetXaxis().SetTitleOffset(1.2)\n",
    "    frame.Draw()\n",
    "    \n",
    "    # Draw the mass and error label\n",
    "    label = TLatex(0.6, 0.8, \"m_{{J/#psi}} = {0:.2f} #pm {1:.2f} GeV\".format(mass, hwhm))\n",
    "    label.SetNDC()\n",
    "    label.Draw()\n",
    "    \n",
    "    return canvas"
   ]
  },
  {
   "cell_type": "code",
   "execution_count": null,
   "metadata": {
    "collapsed": false,
    "slideshow": {
     "slide_type": "slide"
    }
   },
   "outputs": [],
   "source": [
    "fit(mass_hist_zoomed)"
   ]
  },
  {
   "cell_type": "markdown",
   "metadata": {
    "slideshow": {
     "slide_type": "skip"
    }
   },
   "source": [
    "* These events were extracted from the CMS Mu Primary Dataset on the CERN Open Data Portal: http://opendata.cern.ch/record/14. \n",
    "* Thanks to http://openstack.cern.ch for providing a CernVM running SL5 where I could set up CMSSW 4.2.8 and to https://github.com/tpmccauley/dimuon-filter for generating the CSV from CMS AODs."
   ]
  }
 ],
 "metadata": {
  "anaconda-cloud": {},
  "kernelspec": {
   "display_name": "Python [default]",
   "language": "python",
   "name": "python2"
  },
  "language_info": {
   "codemirror_mode": {
    "name": "ipython",
    "version": 2
   },
   "file_extension": ".py",
   "mimetype": "text/x-python",
   "name": "python",
   "nbconvert_exporter": "python",
   "pygments_lexer": "ipython2",
   "version": "2.7.12"
  }
 },
 "nbformat": 4,
 "nbformat_minor": 0
}
